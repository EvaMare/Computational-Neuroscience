{
 "cells": [
  {
   "cell_type": "code",
   "execution_count": 1,
   "metadata": {},
   "outputs": [
    {
     "ename": "ModuleNotFoundError",
     "evalue": "No module named 'scipy'",
     "output_type": "error",
     "traceback": [
      "\u001b[1;31m---------------------------------------------------------------------------\u001b[0m",
      "\u001b[1;31mModuleNotFoundError\u001b[0m                       Traceback (most recent call last)",
      "Cell \u001b[1;32mIn[1], line 3\u001b[0m\n\u001b[0;32m      1\u001b[0m \u001b[38;5;28;01mimport\u001b[39;00m \u001b[38;5;21;01mnumpy\u001b[39;00m \u001b[38;5;28;01mas\u001b[39;00m \u001b[38;5;21;01mnp\u001b[39;00m\n\u001b[0;32m      2\u001b[0m \u001b[38;5;28;01mimport\u001b[39;00m \u001b[38;5;21;01mmatplotlib\u001b[39;00m\u001b[38;5;21;01m.\u001b[39;00m\u001b[38;5;21;01mpyplot\u001b[39;00m \u001b[38;5;28;01mas\u001b[39;00m \u001b[38;5;21;01mplt\u001b[39;00m\n\u001b[1;32m----> 3\u001b[0m \u001b[38;5;28;01mfrom\u001b[39;00m \u001b[38;5;21;01mscipy\u001b[39;00m\u001b[38;5;21;01m.\u001b[39;00m\u001b[38;5;21;01mintegrate\u001b[39;00m \u001b[38;5;28;01mimport\u001b[39;00m odeint\n\u001b[0;32m      5\u001b[0m \u001b[38;5;66;03m# Parameters\u001b[39;00m\n\u001b[0;32m      6\u001b[0m N \u001b[38;5;241m=\u001b[39m \u001b[38;5;241m100\u001b[39m  \u001b[38;5;66;03m# number of oscillators\u001b[39;00m\n",
      "\u001b[1;31mModuleNotFoundError\u001b[0m: No module named 'scipy'"
     ]
    }
   ],
   "source": [
    "import numpy as np\n",
    "import matplotlib.pyplot as plt\n",
    "from scipy.integrate import odeint\n",
    "\n",
    "# Parameters\n",
    "N = 100  # number of oscillators\n",
    "K = 1.0  # coupling strength\n",
    "T = 10  # total time for simulation\n",
    "dt = 0.1  # time step\n",
    "omega = np.random.normal(0, 1, N)  # random natural frequencies (mean 0, std 1)\n",
    "\n",
    "# Define the mean-field equation\n",
    "def mean_field_eq(theta, t, K, omega, N):\n",
    "    # theta: array of phases of oscillators\n",
    "    # t: time variable (not used explicitly but required by odeint)\n",
    "    \n",
    "    # Compute the order parameter r * exp(i * Theta)\n",
    "    r = np.abs(np.sum(np.exp(1j * theta)) / N)  # magnitude of the order parameter\n",
    "    Theta = np.angle(np.sum(np.exp(1j * theta)) / N)  # phase of the order parameter\n",
    "    \n",
    "    # Compute the derivatives (d/dt of each oscillator phase)\n",
    "    dtheta = omega - K * r * np.sin(theta - Theta)  # mean-field equation\n",
    "    return dtheta\n",
    "\n",
    "# Initial conditions: random initial phases for each oscillator\n",
    "theta0 = np.random.uniform(0, 2 * np.pi, N)\n",
    "\n",
    "# Time points where solution is computed\n",
    "t = np.linspace(0, T, int(T / dt))\n",
    "\n",
    "# Integrate the mean-field equations\n",
    "theta = odeint(mean_field_eq, theta0, t, args=(K, omega, N))\n",
    "\n",
    "# Visualize the results\n",
    "plt.figure(figsize=(10, 6))\n",
    "\n",
    "# Plot the phases of all oscillators over time\n",
    "for i in range(N):\n",
    "    plt.plot(t, theta[:, i], label=f'Oscillator {i+1}' if i < 10 else \"\", alpha=0.6)\n",
    "\n",
    "plt.xlabel('Time')\n",
    "plt.ylabel('Phase $\\theta_i$')\n",
    "plt.title('Phases of Oscillators over Time')\n",
    "plt.legend(loc='upper right', fontsize=8)\n",
    "plt.show()\n",
    "\n",
    "# Compute and plot the order parameter r over time\n",
    "r_values = np.abs(np.sum(np.exp(1j * theta), axis=1) / N)\n",
    "plt.figure(figsize=(10, 6))\n",
    "plt.plot(t, r_values, label=\"Order parameter r\")\n",
    "plt.xlabel('Time')\n",
    "plt.ylabel('Order parameter $r$')\n",
    "plt.title('Synchronization (Order Parameter) over Time')\n",
    "plt.show()\n"
   ]
  }
 ],
 "metadata": {
  "kernelspec": {
   "display_name": "base",
   "language": "python",
   "name": "python3"
  },
  "language_info": {
   "codemirror_mode": {
    "name": "ipython",
    "version": 3
   },
   "file_extension": ".py",
   "mimetype": "text/x-python",
   "name": "python",
   "nbconvert_exporter": "python",
   "pygments_lexer": "ipython3",
   "version": "3.10.15"
  }
 },
 "nbformat": 4,
 "nbformat_minor": 2
}
